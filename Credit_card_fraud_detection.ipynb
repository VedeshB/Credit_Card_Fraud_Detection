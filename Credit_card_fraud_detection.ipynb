{
  "nbformat": 4,
  "nbformat_minor": 0,
  "metadata": {
    "colab": {
      "provenance": []
    },
    "kernelspec": {
      "name": "python3",
      "display_name": "Python 3"
    },
    "language_info": {
      "name": "python"
    }
  },
  "cells": [
    {
      "cell_type": "markdown",
      "source": [
        "Importing the dependencies"
      ],
      "metadata": {
        "id": "tJmBePo19hfq"
      }
    },
    {
      "cell_type": "code",
      "source": [
        "import numpy as np\n",
        "import pandas as pd\n",
        "from sklearn.model_selection import train_test_split\n",
        "from sklearn.linear_model import LogisticRegression\n",
        "from sklearn.metrics import accuracy_score\n",
        "\n",
        "\n"
      ],
      "metadata": {
        "id": "hH5AdDQ29kA9"
      },
      "execution_count": null,
      "outputs": []
    },
    {
      "cell_type": "code",
      "source": [
        "# naming the dataset"
      ],
      "metadata": {
        "id": "GWmABtwr95kP"
      },
      "execution_count": null,
      "outputs": []
    },
    {
      "cell_type": "code",
      "source": [
        "\n",
        "credit_card_data = pd.read_csv('/content/creditcard.csv')"
      ],
      "metadata": {
        "id": "-AMP4plc_58w"
      },
      "execution_count": null,
      "outputs": []
    },
    {
      "cell_type": "code",
      "source": [
        "credit_card_data.head()"
      ],
      "metadata": {
        "colab": {
          "base_uri": "https://localhost:8080/",
          "height": 299
        },
        "id": "5xlM_jdkADXC",
        "outputId": "2ac93589-5be9-4036-bc7a-725211bbffdf"
      },
      "execution_count": null,
      "outputs": [
        {
          "output_type": "execute_result",
          "data": {
            "text/plain": [
              "   Time        V1        V2        V3        V4        V5        V6        V7  \\\n",
              "0     0 -1.359807 -0.072781  2.536347  1.378155 -0.338321  0.462388  0.239599   \n",
              "1     0  1.191857  0.266151  0.166480  0.448154  0.060018 -0.082361 -0.078803   \n",
              "2     1 -1.358354 -1.340163  1.773209  0.379780 -0.503198  1.800499  0.791461   \n",
              "3     1 -0.966272 -0.185226  1.792993 -0.863291 -0.010309  1.247203  0.237609   \n",
              "4     2 -1.158233  0.877737  1.548718  0.403034 -0.407193  0.095921  0.592941   \n",
              "\n",
              "         V8        V9  ...       V21       V22       V23       V24       V25  \\\n",
              "0  0.098698  0.363787  ... -0.018307  0.277838 -0.110474  0.066928  0.128539   \n",
              "1  0.085102 -0.255425  ... -0.225775 -0.638672  0.101288 -0.339846  0.167170   \n",
              "2  0.247676 -1.514654  ...  0.247998  0.771679  0.909412 -0.689281 -0.327642   \n",
              "3  0.377436 -1.387024  ... -0.108300  0.005274 -0.190321 -1.175575  0.647376   \n",
              "4 -0.270533  0.817739  ... -0.009431  0.798278 -0.137458  0.141267 -0.206010   \n",
              "\n",
              "        V26       V27       V28  Amount  Class  \n",
              "0 -0.189115  0.133558 -0.021053  149.62    0.0  \n",
              "1  0.125895 -0.008983  0.014724    2.69    0.0  \n",
              "2 -0.139097 -0.055353 -0.059752  378.66    0.0  \n",
              "3 -0.221929  0.062723  0.061458  123.50    0.0  \n",
              "4  0.502292  0.219422  0.215153   69.99    0.0  \n",
              "\n",
              "[5 rows x 31 columns]"
            ],
            "text/html": [
              "\n",
              "  <div id=\"df-5df570cb-5dc9-425d-aefb-b6e79fba4ff9\">\n",
              "    <div class=\"colab-df-container\">\n",
              "      <div>\n",
              "<style scoped>\n",
              "    .dataframe tbody tr th:only-of-type {\n",
              "        vertical-align: middle;\n",
              "    }\n",
              "\n",
              "    .dataframe tbody tr th {\n",
              "        vertical-align: top;\n",
              "    }\n",
              "\n",
              "    .dataframe thead th {\n",
              "        text-align: right;\n",
              "    }\n",
              "</style>\n",
              "<table border=\"1\" class=\"dataframe\">\n",
              "  <thead>\n",
              "    <tr style=\"text-align: right;\">\n",
              "      <th></th>\n",
              "      <th>Time</th>\n",
              "      <th>V1</th>\n",
              "      <th>V2</th>\n",
              "      <th>V3</th>\n",
              "      <th>V4</th>\n",
              "      <th>V5</th>\n",
              "      <th>V6</th>\n",
              "      <th>V7</th>\n",
              "      <th>V8</th>\n",
              "      <th>V9</th>\n",
              "      <th>...</th>\n",
              "      <th>V21</th>\n",
              "      <th>V22</th>\n",
              "      <th>V23</th>\n",
              "      <th>V24</th>\n",
              "      <th>V25</th>\n",
              "      <th>V26</th>\n",
              "      <th>V27</th>\n",
              "      <th>V28</th>\n",
              "      <th>Amount</th>\n",
              "      <th>Class</th>\n",
              "    </tr>\n",
              "  </thead>\n",
              "  <tbody>\n",
              "    <tr>\n",
              "      <th>0</th>\n",
              "      <td>0</td>\n",
              "      <td>-1.359807</td>\n",
              "      <td>-0.072781</td>\n",
              "      <td>2.536347</td>\n",
              "      <td>1.378155</td>\n",
              "      <td>-0.338321</td>\n",
              "      <td>0.462388</td>\n",
              "      <td>0.239599</td>\n",
              "      <td>0.098698</td>\n",
              "      <td>0.363787</td>\n",
              "      <td>...</td>\n",
              "      <td>-0.018307</td>\n",
              "      <td>0.277838</td>\n",
              "      <td>-0.110474</td>\n",
              "      <td>0.066928</td>\n",
              "      <td>0.128539</td>\n",
              "      <td>-0.189115</td>\n",
              "      <td>0.133558</td>\n",
              "      <td>-0.021053</td>\n",
              "      <td>149.62</td>\n",
              "      <td>0.0</td>\n",
              "    </tr>\n",
              "    <tr>\n",
              "      <th>1</th>\n",
              "      <td>0</td>\n",
              "      <td>1.191857</td>\n",
              "      <td>0.266151</td>\n",
              "      <td>0.166480</td>\n",
              "      <td>0.448154</td>\n",
              "      <td>0.060018</td>\n",
              "      <td>-0.082361</td>\n",
              "      <td>-0.078803</td>\n",
              "      <td>0.085102</td>\n",
              "      <td>-0.255425</td>\n",
              "      <td>...</td>\n",
              "      <td>-0.225775</td>\n",
              "      <td>-0.638672</td>\n",
              "      <td>0.101288</td>\n",
              "      <td>-0.339846</td>\n",
              "      <td>0.167170</td>\n",
              "      <td>0.125895</td>\n",
              "      <td>-0.008983</td>\n",
              "      <td>0.014724</td>\n",
              "      <td>2.69</td>\n",
              "      <td>0.0</td>\n",
              "    </tr>\n",
              "    <tr>\n",
              "      <th>2</th>\n",
              "      <td>1</td>\n",
              "      <td>-1.358354</td>\n",
              "      <td>-1.340163</td>\n",
              "      <td>1.773209</td>\n",
              "      <td>0.379780</td>\n",
              "      <td>-0.503198</td>\n",
              "      <td>1.800499</td>\n",
              "      <td>0.791461</td>\n",
              "      <td>0.247676</td>\n",
              "      <td>-1.514654</td>\n",
              "      <td>...</td>\n",
              "      <td>0.247998</td>\n",
              "      <td>0.771679</td>\n",
              "      <td>0.909412</td>\n",
              "      <td>-0.689281</td>\n",
              "      <td>-0.327642</td>\n",
              "      <td>-0.139097</td>\n",
              "      <td>-0.055353</td>\n",
              "      <td>-0.059752</td>\n",
              "      <td>378.66</td>\n",
              "      <td>0.0</td>\n",
              "    </tr>\n",
              "    <tr>\n",
              "      <th>3</th>\n",
              "      <td>1</td>\n",
              "      <td>-0.966272</td>\n",
              "      <td>-0.185226</td>\n",
              "      <td>1.792993</td>\n",
              "      <td>-0.863291</td>\n",
              "      <td>-0.010309</td>\n",
              "      <td>1.247203</td>\n",
              "      <td>0.237609</td>\n",
              "      <td>0.377436</td>\n",
              "      <td>-1.387024</td>\n",
              "      <td>...</td>\n",
              "      <td>-0.108300</td>\n",
              "      <td>0.005274</td>\n",
              "      <td>-0.190321</td>\n",
              "      <td>-1.175575</td>\n",
              "      <td>0.647376</td>\n",
              "      <td>-0.221929</td>\n",
              "      <td>0.062723</td>\n",
              "      <td>0.061458</td>\n",
              "      <td>123.50</td>\n",
              "      <td>0.0</td>\n",
              "    </tr>\n",
              "    <tr>\n",
              "      <th>4</th>\n",
              "      <td>2</td>\n",
              "      <td>-1.158233</td>\n",
              "      <td>0.877737</td>\n",
              "      <td>1.548718</td>\n",
              "      <td>0.403034</td>\n",
              "      <td>-0.407193</td>\n",
              "      <td>0.095921</td>\n",
              "      <td>0.592941</td>\n",
              "      <td>-0.270533</td>\n",
              "      <td>0.817739</td>\n",
              "      <td>...</td>\n",
              "      <td>-0.009431</td>\n",
              "      <td>0.798278</td>\n",
              "      <td>-0.137458</td>\n",
              "      <td>0.141267</td>\n",
              "      <td>-0.206010</td>\n",
              "      <td>0.502292</td>\n",
              "      <td>0.219422</td>\n",
              "      <td>0.215153</td>\n",
              "      <td>69.99</td>\n",
              "      <td>0.0</td>\n",
              "    </tr>\n",
              "  </tbody>\n",
              "</table>\n",
              "<p>5 rows × 31 columns</p>\n",
              "</div>\n",
              "      <button class=\"colab-df-convert\" onclick=\"convertToInteractive('df-5df570cb-5dc9-425d-aefb-b6e79fba4ff9')\"\n",
              "              title=\"Convert this dataframe to an interactive table.\"\n",
              "              style=\"display:none;\">\n",
              "        \n",
              "  <svg xmlns=\"http://www.w3.org/2000/svg\" height=\"24px\"viewBox=\"0 0 24 24\"\n",
              "       width=\"24px\">\n",
              "    <path d=\"M0 0h24v24H0V0z\" fill=\"none\"/>\n",
              "    <path d=\"M18.56 5.44l.94 2.06.94-2.06 2.06-.94-2.06-.94-.94-2.06-.94 2.06-2.06.94zm-11 1L8.5 8.5l.94-2.06 2.06-.94-2.06-.94L8.5 2.5l-.94 2.06-2.06.94zm10 10l.94 2.06.94-2.06 2.06-.94-2.06-.94-.94-2.06-.94 2.06-2.06.94z\"/><path d=\"M17.41 7.96l-1.37-1.37c-.4-.4-.92-.59-1.43-.59-.52 0-1.04.2-1.43.59L10.3 9.45l-7.72 7.72c-.78.78-.78 2.05 0 2.83L4 21.41c.39.39.9.59 1.41.59.51 0 1.02-.2 1.41-.59l7.78-7.78 2.81-2.81c.8-.78.8-2.07 0-2.86zM5.41 20L4 18.59l7.72-7.72 1.47 1.35L5.41 20z\"/>\n",
              "  </svg>\n",
              "      </button>\n",
              "      \n",
              "  <style>\n",
              "    .colab-df-container {\n",
              "      display:flex;\n",
              "      flex-wrap:wrap;\n",
              "      gap: 12px;\n",
              "    }\n",
              "\n",
              "    .colab-df-convert {\n",
              "      background-color: #E8F0FE;\n",
              "      border: none;\n",
              "      border-radius: 50%;\n",
              "      cursor: pointer;\n",
              "      display: none;\n",
              "      fill: #1967D2;\n",
              "      height: 32px;\n",
              "      padding: 0 0 0 0;\n",
              "      width: 32px;\n",
              "    }\n",
              "\n",
              "    .colab-df-convert:hover {\n",
              "      background-color: #E2EBFA;\n",
              "      box-shadow: 0px 1px 2px rgba(60, 64, 67, 0.3), 0px 1px 3px 1px rgba(60, 64, 67, 0.15);\n",
              "      fill: #174EA6;\n",
              "    }\n",
              "\n",
              "    [theme=dark] .colab-df-convert {\n",
              "      background-color: #3B4455;\n",
              "      fill: #D2E3FC;\n",
              "    }\n",
              "\n",
              "    [theme=dark] .colab-df-convert:hover {\n",
              "      background-color: #434B5C;\n",
              "      box-shadow: 0px 1px 3px 1px rgba(0, 0, 0, 0.15);\n",
              "      filter: drop-shadow(0px 1px 2px rgba(0, 0, 0, 0.3));\n",
              "      fill: #FFFFFF;\n",
              "    }\n",
              "  </style>\n",
              "\n",
              "      <script>\n",
              "        const buttonEl =\n",
              "          document.querySelector('#df-5df570cb-5dc9-425d-aefb-b6e79fba4ff9 button.colab-df-convert');\n",
              "        buttonEl.style.display =\n",
              "          google.colab.kernel.accessAllowed ? 'block' : 'none';\n",
              "\n",
              "        async function convertToInteractive(key) {\n",
              "          const element = document.querySelector('#df-5df570cb-5dc9-425d-aefb-b6e79fba4ff9');\n",
              "          const dataTable =\n",
              "            await google.colab.kernel.invokeFunction('convertToInteractive',\n",
              "                                                     [key], {});\n",
              "          if (!dataTable) return;\n",
              "\n",
              "          const docLinkHtml = 'Like what you see? Visit the ' +\n",
              "            '<a target=\"_blank\" href=https://colab.research.google.com/notebooks/data_table.ipynb>data table notebook</a>'\n",
              "            + ' to learn more about interactive tables.';\n",
              "          element.innerHTML = '';\n",
              "          dataTable['output_type'] = 'display_data';\n",
              "          await google.colab.output.renderOutput(dataTable, element);\n",
              "          const docLink = document.createElement('div');\n",
              "          docLink.innerHTML = docLinkHtml;\n",
              "          element.appendChild(docLink);\n",
              "        }\n",
              "      </script>\n",
              "    </div>\n",
              "  </div>\n",
              "  "
            ]
          },
          "metadata": {},
          "execution_count": 8
        }
      ]
    },
    {
      "cell_type": "code",
      "source": [
        "credit_card_data.tail()"
      ],
      "metadata": {
        "colab": {
          "base_uri": "https://localhost:8080/",
          "height": 299
        },
        "id": "HU_YsUF0AJGX",
        "outputId": "6e564289-e899-400b-bd96-003d1373de84"
      },
      "execution_count": null,
      "outputs": [
        {
          "output_type": "execute_result",
          "data": {
            "text/plain": [
              "         Time        V1        V2        V3        V4        V5        V6  \\\n",
              "107661  70549  1.198279 -0.851404 -0.172063 -0.760588 -0.732620 -0.390914   \n",
              "107662  70549 -4.608890 -2.417203 -1.684811  0.206299  1.240726  3.368097   \n",
              "107663  70550 -1.125806  0.163657  1.873904  1.407388  0.400394  0.167562   \n",
              "107664  70550 -0.423253  0.752399  1.577846  0.280206 -0.094335 -0.263924   \n",
              "107665  70550  0.907958 -0.923497  0.730426  0.211849 -0.948813  0.409957   \n",
              "\n",
              "              V7        V8        V9  ...       V21       V22       V23  \\\n",
              "107661 -0.308317 -0.108760 -1.116133  ... -0.317584 -0.724378 -0.145397   \n",
              "107662 -1.802464  1.883831 -1.202476  ... -0.379691 -0.212864 -0.474509   \n",
              "107663  0.488385  0.250106 -0.798662  ...  0.117333  0.190644  0.003970   \n",
              "107664  0.474498  0.088235  0.119206  ...  0.051250  0.557695 -0.004066   \n",
              "107665 -0.555812  0.199092  1.260090  ... -0.149574 -0.492247 -0.083512   \n",
              "\n",
              "             V24       V25       V26       V27       V28  Amount  Class  \n",
              "107661 -0.317131  0.286789  1.054526 -0.093112  0.006122  118.00    0.0  \n",
              "107662  1.133652 -0.053589 -0.203666  0.022797 -1.153237   12.00    0.0  \n",
              "107663  0.234093  0.445414 -0.163892  0.050617  0.081551   98.35    0.0  \n",
              "107664  0.468395 -0.584390  0.284416  0.423211  0.241590    9.20    0.0  \n",
              "107665 -0.351753  0.064257  0.988019 -0.048000       NaN     NaN    NaN  \n",
              "\n",
              "[5 rows x 31 columns]"
            ],
            "text/html": [
              "\n",
              "  <div id=\"df-46101b27-7131-4990-a05f-55f027ce4d8c\">\n",
              "    <div class=\"colab-df-container\">\n",
              "      <div>\n",
              "<style scoped>\n",
              "    .dataframe tbody tr th:only-of-type {\n",
              "        vertical-align: middle;\n",
              "    }\n",
              "\n",
              "    .dataframe tbody tr th {\n",
              "        vertical-align: top;\n",
              "    }\n",
              "\n",
              "    .dataframe thead th {\n",
              "        text-align: right;\n",
              "    }\n",
              "</style>\n",
              "<table border=\"1\" class=\"dataframe\">\n",
              "  <thead>\n",
              "    <tr style=\"text-align: right;\">\n",
              "      <th></th>\n",
              "      <th>Time</th>\n",
              "      <th>V1</th>\n",
              "      <th>V2</th>\n",
              "      <th>V3</th>\n",
              "      <th>V4</th>\n",
              "      <th>V5</th>\n",
              "      <th>V6</th>\n",
              "      <th>V7</th>\n",
              "      <th>V8</th>\n",
              "      <th>V9</th>\n",
              "      <th>...</th>\n",
              "      <th>V21</th>\n",
              "      <th>V22</th>\n",
              "      <th>V23</th>\n",
              "      <th>V24</th>\n",
              "      <th>V25</th>\n",
              "      <th>V26</th>\n",
              "      <th>V27</th>\n",
              "      <th>V28</th>\n",
              "      <th>Amount</th>\n",
              "      <th>Class</th>\n",
              "    </tr>\n",
              "  </thead>\n",
              "  <tbody>\n",
              "    <tr>\n",
              "      <th>107661</th>\n",
              "      <td>70549</td>\n",
              "      <td>1.198279</td>\n",
              "      <td>-0.851404</td>\n",
              "      <td>-0.172063</td>\n",
              "      <td>-0.760588</td>\n",
              "      <td>-0.732620</td>\n",
              "      <td>-0.390914</td>\n",
              "      <td>-0.308317</td>\n",
              "      <td>-0.108760</td>\n",
              "      <td>-1.116133</td>\n",
              "      <td>...</td>\n",
              "      <td>-0.317584</td>\n",
              "      <td>-0.724378</td>\n",
              "      <td>-0.145397</td>\n",
              "      <td>-0.317131</td>\n",
              "      <td>0.286789</td>\n",
              "      <td>1.054526</td>\n",
              "      <td>-0.093112</td>\n",
              "      <td>0.006122</td>\n",
              "      <td>118.00</td>\n",
              "      <td>0.0</td>\n",
              "    </tr>\n",
              "    <tr>\n",
              "      <th>107662</th>\n",
              "      <td>70549</td>\n",
              "      <td>-4.608890</td>\n",
              "      <td>-2.417203</td>\n",
              "      <td>-1.684811</td>\n",
              "      <td>0.206299</td>\n",
              "      <td>1.240726</td>\n",
              "      <td>3.368097</td>\n",
              "      <td>-1.802464</td>\n",
              "      <td>1.883831</td>\n",
              "      <td>-1.202476</td>\n",
              "      <td>...</td>\n",
              "      <td>-0.379691</td>\n",
              "      <td>-0.212864</td>\n",
              "      <td>-0.474509</td>\n",
              "      <td>1.133652</td>\n",
              "      <td>-0.053589</td>\n",
              "      <td>-0.203666</td>\n",
              "      <td>0.022797</td>\n",
              "      <td>-1.153237</td>\n",
              "      <td>12.00</td>\n",
              "      <td>0.0</td>\n",
              "    </tr>\n",
              "    <tr>\n",
              "      <th>107663</th>\n",
              "      <td>70550</td>\n",
              "      <td>-1.125806</td>\n",
              "      <td>0.163657</td>\n",
              "      <td>1.873904</td>\n",
              "      <td>1.407388</td>\n",
              "      <td>0.400394</td>\n",
              "      <td>0.167562</td>\n",
              "      <td>0.488385</td>\n",
              "      <td>0.250106</td>\n",
              "      <td>-0.798662</td>\n",
              "      <td>...</td>\n",
              "      <td>0.117333</td>\n",
              "      <td>0.190644</td>\n",
              "      <td>0.003970</td>\n",
              "      <td>0.234093</td>\n",
              "      <td>0.445414</td>\n",
              "      <td>-0.163892</td>\n",
              "      <td>0.050617</td>\n",
              "      <td>0.081551</td>\n",
              "      <td>98.35</td>\n",
              "      <td>0.0</td>\n",
              "    </tr>\n",
              "    <tr>\n",
              "      <th>107664</th>\n",
              "      <td>70550</td>\n",
              "      <td>-0.423253</td>\n",
              "      <td>0.752399</td>\n",
              "      <td>1.577846</td>\n",
              "      <td>0.280206</td>\n",
              "      <td>-0.094335</td>\n",
              "      <td>-0.263924</td>\n",
              "      <td>0.474498</td>\n",
              "      <td>0.088235</td>\n",
              "      <td>0.119206</td>\n",
              "      <td>...</td>\n",
              "      <td>0.051250</td>\n",
              "      <td>0.557695</td>\n",
              "      <td>-0.004066</td>\n",
              "      <td>0.468395</td>\n",
              "      <td>-0.584390</td>\n",
              "      <td>0.284416</td>\n",
              "      <td>0.423211</td>\n",
              "      <td>0.241590</td>\n",
              "      <td>9.20</td>\n",
              "      <td>0.0</td>\n",
              "    </tr>\n",
              "    <tr>\n",
              "      <th>107665</th>\n",
              "      <td>70550</td>\n",
              "      <td>0.907958</td>\n",
              "      <td>-0.923497</td>\n",
              "      <td>0.730426</td>\n",
              "      <td>0.211849</td>\n",
              "      <td>-0.948813</td>\n",
              "      <td>0.409957</td>\n",
              "      <td>-0.555812</td>\n",
              "      <td>0.199092</td>\n",
              "      <td>1.260090</td>\n",
              "      <td>...</td>\n",
              "      <td>-0.149574</td>\n",
              "      <td>-0.492247</td>\n",
              "      <td>-0.083512</td>\n",
              "      <td>-0.351753</td>\n",
              "      <td>0.064257</td>\n",
              "      <td>0.988019</td>\n",
              "      <td>-0.048000</td>\n",
              "      <td>NaN</td>\n",
              "      <td>NaN</td>\n",
              "      <td>NaN</td>\n",
              "    </tr>\n",
              "  </tbody>\n",
              "</table>\n",
              "<p>5 rows × 31 columns</p>\n",
              "</div>\n",
              "      <button class=\"colab-df-convert\" onclick=\"convertToInteractive('df-46101b27-7131-4990-a05f-55f027ce4d8c')\"\n",
              "              title=\"Convert this dataframe to an interactive table.\"\n",
              "              style=\"display:none;\">\n",
              "        \n",
              "  <svg xmlns=\"http://www.w3.org/2000/svg\" height=\"24px\"viewBox=\"0 0 24 24\"\n",
              "       width=\"24px\">\n",
              "    <path d=\"M0 0h24v24H0V0z\" fill=\"none\"/>\n",
              "    <path d=\"M18.56 5.44l.94 2.06.94-2.06 2.06-.94-2.06-.94-.94-2.06-.94 2.06-2.06.94zm-11 1L8.5 8.5l.94-2.06 2.06-.94-2.06-.94L8.5 2.5l-.94 2.06-2.06.94zm10 10l.94 2.06.94-2.06 2.06-.94-2.06-.94-.94-2.06-.94 2.06-2.06.94z\"/><path d=\"M17.41 7.96l-1.37-1.37c-.4-.4-.92-.59-1.43-.59-.52 0-1.04.2-1.43.59L10.3 9.45l-7.72 7.72c-.78.78-.78 2.05 0 2.83L4 21.41c.39.39.9.59 1.41.59.51 0 1.02-.2 1.41-.59l7.78-7.78 2.81-2.81c.8-.78.8-2.07 0-2.86zM5.41 20L4 18.59l7.72-7.72 1.47 1.35L5.41 20z\"/>\n",
              "  </svg>\n",
              "      </button>\n",
              "      \n",
              "  <style>\n",
              "    .colab-df-container {\n",
              "      display:flex;\n",
              "      flex-wrap:wrap;\n",
              "      gap: 12px;\n",
              "    }\n",
              "\n",
              "    .colab-df-convert {\n",
              "      background-color: #E8F0FE;\n",
              "      border: none;\n",
              "      border-radius: 50%;\n",
              "      cursor: pointer;\n",
              "      display: none;\n",
              "      fill: #1967D2;\n",
              "      height: 32px;\n",
              "      padding: 0 0 0 0;\n",
              "      width: 32px;\n",
              "    }\n",
              "\n",
              "    .colab-df-convert:hover {\n",
              "      background-color: #E2EBFA;\n",
              "      box-shadow: 0px 1px 2px rgba(60, 64, 67, 0.3), 0px 1px 3px 1px rgba(60, 64, 67, 0.15);\n",
              "      fill: #174EA6;\n",
              "    }\n",
              "\n",
              "    [theme=dark] .colab-df-convert {\n",
              "      background-color: #3B4455;\n",
              "      fill: #D2E3FC;\n",
              "    }\n",
              "\n",
              "    [theme=dark] .colab-df-convert:hover {\n",
              "      background-color: #434B5C;\n",
              "      box-shadow: 0px 1px 3px 1px rgba(0, 0, 0, 0.15);\n",
              "      filter: drop-shadow(0px 1px 2px rgba(0, 0, 0, 0.3));\n",
              "      fill: #FFFFFF;\n",
              "    }\n",
              "  </style>\n",
              "\n",
              "      <script>\n",
              "        const buttonEl =\n",
              "          document.querySelector('#df-46101b27-7131-4990-a05f-55f027ce4d8c button.colab-df-convert');\n",
              "        buttonEl.style.display =\n",
              "          google.colab.kernel.accessAllowed ? 'block' : 'none';\n",
              "\n",
              "        async function convertToInteractive(key) {\n",
              "          const element = document.querySelector('#df-46101b27-7131-4990-a05f-55f027ce4d8c');\n",
              "          const dataTable =\n",
              "            await google.colab.kernel.invokeFunction('convertToInteractive',\n",
              "                                                     [key], {});\n",
              "          if (!dataTable) return;\n",
              "\n",
              "          const docLinkHtml = 'Like what you see? Visit the ' +\n",
              "            '<a target=\"_blank\" href=https://colab.research.google.com/notebooks/data_table.ipynb>data table notebook</a>'\n",
              "            + ' to learn more about interactive tables.';\n",
              "          element.innerHTML = '';\n",
              "          dataTable['output_type'] = 'display_data';\n",
              "          await google.colab.output.renderOutput(dataTable, element);\n",
              "          const docLink = document.createElement('div');\n",
              "          docLink.innerHTML = docLinkHtml;\n",
              "          element.appendChild(docLink);\n",
              "        }\n",
              "      </script>\n",
              "    </div>\n",
              "  </div>\n",
              "  "
            ]
          },
          "metadata": {},
          "execution_count": 9
        }
      ]
    },
    {
      "cell_type": "code",
      "source": [
        "credit_card_data.info()"
      ],
      "metadata": {
        "colab": {
          "base_uri": "https://localhost:8080/"
        },
        "id": "6Ah4P3jCA0C-",
        "outputId": "953da7b3-d214-42fd-f3a8-d678df0174b6"
      },
      "execution_count": null,
      "outputs": [
        {
          "output_type": "stream",
          "name": "stdout",
          "text": [
            "<class 'pandas.core.frame.DataFrame'>\n",
            "RangeIndex: 107666 entries, 0 to 107665\n",
            "Data columns (total 31 columns):\n",
            " #   Column  Non-Null Count   Dtype  \n",
            "---  ------  --------------   -----  \n",
            " 0   Time    107666 non-null  int64  \n",
            " 1   V1      107666 non-null  float64\n",
            " 2   V2      107666 non-null  float64\n",
            " 3   V3      107666 non-null  float64\n",
            " 4   V4      107666 non-null  float64\n",
            " 5   V5      107666 non-null  float64\n",
            " 6   V6      107666 non-null  float64\n",
            " 7   V7      107666 non-null  float64\n",
            " 8   V8      107666 non-null  float64\n",
            " 9   V9      107666 non-null  float64\n",
            " 10  V10     107666 non-null  float64\n",
            " 11  V11     107666 non-null  float64\n",
            " 12  V12     107666 non-null  float64\n",
            " 13  V13     107666 non-null  float64\n",
            " 14  V14     107666 non-null  float64\n",
            " 15  V15     107666 non-null  float64\n",
            " 16  V16     107666 non-null  float64\n",
            " 17  V17     107666 non-null  float64\n",
            " 18  V18     107666 non-null  float64\n",
            " 19  V19     107666 non-null  float64\n",
            " 20  V20     107666 non-null  float64\n",
            " 21  V21     107666 non-null  float64\n",
            " 22  V22     107666 non-null  float64\n",
            " 23  V23     107666 non-null  float64\n",
            " 24  V24     107666 non-null  float64\n",
            " 25  V25     107666 non-null  float64\n",
            " 26  V26     107666 non-null  float64\n",
            " 27  V27     107666 non-null  float64\n",
            " 28  V28     107665 non-null  float64\n",
            " 29  Amount  107665 non-null  float64\n",
            " 30  Class   107665 non-null  float64\n",
            "dtypes: float64(30), int64(1)\n",
            "memory usage: 25.5 MB\n"
          ]
        }
      ]
    },
    {
      "cell_type": "code",
      "source": [
        "# checking no.of missing values in each column"
      ],
      "metadata": {
        "id": "0fZWLe0uBIdH"
      },
      "execution_count": null,
      "outputs": []
    },
    {
      "cell_type": "code",
      "source": [
        "credit_card_data.isnull().sum()"
      ],
      "metadata": {
        "colab": {
          "base_uri": "https://localhost:8080/"
        },
        "id": "ogUaMgyQBPuf",
        "outputId": "2f51ff00-73fb-48da-bdbb-090313240620"
      },
      "execution_count": null,
      "outputs": [
        {
          "output_type": "execute_result",
          "data": {
            "text/plain": [
              "Time      0\n",
              "V1        0\n",
              "V2        0\n",
              "V3        0\n",
              "V4        0\n",
              "V5        0\n",
              "V6        0\n",
              "V7        0\n",
              "V8        0\n",
              "V9        0\n",
              "V10       0\n",
              "V11       0\n",
              "V12       0\n",
              "V13       0\n",
              "V14       0\n",
              "V15       0\n",
              "V16       0\n",
              "V17       0\n",
              "V18       0\n",
              "V19       0\n",
              "V20       0\n",
              "V21       0\n",
              "V22       0\n",
              "V23       0\n",
              "V24       0\n",
              "V25       0\n",
              "V26       0\n",
              "V27       0\n",
              "V28       1\n",
              "Amount    1\n",
              "Class     1\n",
              "dtype: int64"
            ]
          },
          "metadata": {},
          "execution_count": 12
        }
      ]
    },
    {
      "cell_type": "code",
      "source": [
        "\n",
        "# distributing of legit and fradulent transactions"
      ],
      "metadata": {
        "id": "EsJwKOp4BTPB"
      },
      "execution_count": null,
      "outputs": []
    },
    {
      "cell_type": "code",
      "source": [
        "credit_card_data['Class'].value_counts()"
      ],
      "metadata": {
        "colab": {
          "base_uri": "https://localhost:8080/"
        },
        "id": "_T7XmeojBwJ4",
        "outputId": "f633ed70-e68e-4e98-d23d-b5d12d5856c2"
      },
      "execution_count": null,
      "outputs": [
        {
          "output_type": "execute_result",
          "data": {
            "text/plain": [
              "0.0    107428\n",
              "1.0       237\n",
              "Name: Class, dtype: int64"
            ]
          },
          "metadata": {},
          "execution_count": 14
        }
      ]
    },
    {
      "cell_type": "markdown",
      "source": [
        "0 - Legit transaction\n",
        "\n",
        "---\n",
        "1 - Fradulent transaction\n"
      ],
      "metadata": {
        "id": "CRN9MKGtCiEP"
      }
    },
    {
      "cell_type": "code",
      "source": [
        "# seperating the data for analysis"
      ],
      "metadata": {
        "id": "v9Z6jirfB6Xe"
      },
      "execution_count": null,
      "outputs": []
    },
    {
      "cell_type": "code",
      "source": [
        "legit = credit_card_data[credit_card_data.Class == 0]\n",
        "fraud = credit_card_data[credit_card_data.Class == 1]"
      ],
      "metadata": {
        "id": "XWDZsBJhC6s-"
      },
      "execution_count": null,
      "outputs": []
    },
    {
      "cell_type": "code",
      "source": [
        "print(legit.shape)"
      ],
      "metadata": {
        "colab": {
          "base_uri": "https://localhost:8080/"
        },
        "id": "v5JiwO27DLZ-",
        "outputId": "f9051912-0d7d-4d15-a460-d1c60e815a94"
      },
      "execution_count": null,
      "outputs": [
        {
          "output_type": "stream",
          "name": "stdout",
          "text": [
            "(107428, 31)\n"
          ]
        }
      ]
    },
    {
      "cell_type": "code",
      "source": [
        "print(fraud.shape)"
      ],
      "metadata": {
        "colab": {
          "base_uri": "https://localhost:8080/"
        },
        "id": "qbVPmSdRDaKs",
        "outputId": "115fbe87-f9cf-4976-83ff-58d6c52e26cc"
      },
      "execution_count": null,
      "outputs": [
        {
          "output_type": "stream",
          "name": "stdout",
          "text": [
            "(237, 31)\n"
          ]
        }
      ]
    },
    {
      "cell_type": "code",
      "source": [
        "# statistical data for transactions"
      ],
      "metadata": {
        "id": "VIU8x7E0Dc71"
      },
      "execution_count": null,
      "outputs": []
    },
    {
      "cell_type": "code",
      "source": [
        "\n",
        "\n",
        "legit.Amount.describe()"
      ],
      "metadata": {
        "colab": {
          "base_uri": "https://localhost:8080/"
        },
        "id": "VRGZS2UbDj7G",
        "outputId": "6c22933a-5938-4f1e-dc9c-45af95bac394"
      },
      "execution_count": null,
      "outputs": [
        {
          "output_type": "execute_result",
          "data": {
            "text/plain": [
              "count    107428.000000\n",
              "mean         96.131142\n",
              "std         260.844741\n",
              "min           0.000000\n",
              "25%           7.100000\n",
              "50%          25.170000\n",
              "75%          86.970000\n",
              "max       19656.530000\n",
              "Name: Amount, dtype: float64"
            ]
          },
          "metadata": {},
          "execution_count": 20
        }
      ]
    },
    {
      "cell_type": "code",
      "source": [
        "fraud.Amount.describe()"
      ],
      "metadata": {
        "colab": {
          "base_uri": "https://localhost:8080/"
        },
        "id": "TzvtICXKDnHb",
        "outputId": "990a1c8d-4d9f-42fd-9822-7a05c9e55dcb"
      },
      "execution_count": null,
      "outputs": [
        {
          "output_type": "execute_result",
          "data": {
            "text/plain": [
              "count     237.000000\n",
              "mean      118.885148\n",
              "std       255.864211\n",
              "min         0.000000\n",
              "25%         1.000000\n",
              "50%         7.610000\n",
              "75%        99.990000\n",
              "max      1809.680000\n",
              "Name: Amount, dtype: float64"
            ]
          },
          "metadata": {},
          "execution_count": 21
        }
      ]
    },
    {
      "cell_type": "code",
      "source": [
        "\n",
        "# compare the values for both transactions"
      ],
      "metadata": {
        "id": "ayyn7GaHD1Hf"
      },
      "execution_count": null,
      "outputs": []
    },
    {
      "cell_type": "code",
      "source": [
        "credit_card_data.groupby('Class').mean()"
      ],
      "metadata": {
        "colab": {
          "base_uri": "https://localhost:8080/",
          "height": 237
        },
        "id": "gNZt2_DmD8Yw",
        "outputId": "faaadbd8-79ea-4cee-9942-79d641921d4b"
      },
      "execution_count": null,
      "outputs": [
        {
          "output_type": "execute_result",
          "data": {
            "text/plain": [
              "               Time        V1        V2        V3        V4        V5  \\\n",
              "Class                                                                   \n",
              "0.0    44326.693739 -0.244646 -0.035961  0.700676  0.146649 -0.275017   \n",
              "1.0    38578.008439 -6.020609  4.209147 -7.728592  4.759216 -4.298181   \n",
              "\n",
              "             V6        V7        V8        V9  ...       V20       V21  \\\n",
              "Class                                          ...                       \n",
              "0.0    0.101216 -0.102301  0.055409 -0.049402  ...  0.043082 -0.033876   \n",
              "1.0   -1.547669 -6.396113  1.618176 -2.755420  ...  0.252535  1.368462   \n",
              "\n",
              "            V22       V23      V24       V25       V26       V27       V28  \\\n",
              "Class                                                                        \n",
              "0.0   -0.106727 -0.037017  0.01058  0.133236  0.025663  0.000488  0.001429   \n",
              "1.0   -0.344519 -0.105012 -0.11118  0.215603  0.092395  0.533794  0.066186   \n",
              "\n",
              "           Amount  \n",
              "Class              \n",
              "0.0     96.131142  \n",
              "1.0    118.885148  \n",
              "\n",
              "[2 rows x 30 columns]"
            ],
            "text/html": [
              "\n",
              "  <div id=\"df-20a2a6f2-5954-4417-8df6-9c0349bf3f41\">\n",
              "    <div class=\"colab-df-container\">\n",
              "      <div>\n",
              "<style scoped>\n",
              "    .dataframe tbody tr th:only-of-type {\n",
              "        vertical-align: middle;\n",
              "    }\n",
              "\n",
              "    .dataframe tbody tr th {\n",
              "        vertical-align: top;\n",
              "    }\n",
              "\n",
              "    .dataframe thead th {\n",
              "        text-align: right;\n",
              "    }\n",
              "</style>\n",
              "<table border=\"1\" class=\"dataframe\">\n",
              "  <thead>\n",
              "    <tr style=\"text-align: right;\">\n",
              "      <th></th>\n",
              "      <th>Time</th>\n",
              "      <th>V1</th>\n",
              "      <th>V2</th>\n",
              "      <th>V3</th>\n",
              "      <th>V4</th>\n",
              "      <th>V5</th>\n",
              "      <th>V6</th>\n",
              "      <th>V7</th>\n",
              "      <th>V8</th>\n",
              "      <th>V9</th>\n",
              "      <th>...</th>\n",
              "      <th>V20</th>\n",
              "      <th>V21</th>\n",
              "      <th>V22</th>\n",
              "      <th>V23</th>\n",
              "      <th>V24</th>\n",
              "      <th>V25</th>\n",
              "      <th>V26</th>\n",
              "      <th>V27</th>\n",
              "      <th>V28</th>\n",
              "      <th>Amount</th>\n",
              "    </tr>\n",
              "    <tr>\n",
              "      <th>Class</th>\n",
              "      <th></th>\n",
              "      <th></th>\n",
              "      <th></th>\n",
              "      <th></th>\n",
              "      <th></th>\n",
              "      <th></th>\n",
              "      <th></th>\n",
              "      <th></th>\n",
              "      <th></th>\n",
              "      <th></th>\n",
              "      <th></th>\n",
              "      <th></th>\n",
              "      <th></th>\n",
              "      <th></th>\n",
              "      <th></th>\n",
              "      <th></th>\n",
              "      <th></th>\n",
              "      <th></th>\n",
              "      <th></th>\n",
              "      <th></th>\n",
              "      <th></th>\n",
              "    </tr>\n",
              "  </thead>\n",
              "  <tbody>\n",
              "    <tr>\n",
              "      <th>0.0</th>\n",
              "      <td>44326.693739</td>\n",
              "      <td>-0.244646</td>\n",
              "      <td>-0.035961</td>\n",
              "      <td>0.700676</td>\n",
              "      <td>0.146649</td>\n",
              "      <td>-0.275017</td>\n",
              "      <td>0.101216</td>\n",
              "      <td>-0.102301</td>\n",
              "      <td>0.055409</td>\n",
              "      <td>-0.049402</td>\n",
              "      <td>...</td>\n",
              "      <td>0.043082</td>\n",
              "      <td>-0.033876</td>\n",
              "      <td>-0.106727</td>\n",
              "      <td>-0.037017</td>\n",
              "      <td>0.01058</td>\n",
              "      <td>0.133236</td>\n",
              "      <td>0.025663</td>\n",
              "      <td>0.000488</td>\n",
              "      <td>0.001429</td>\n",
              "      <td>96.131142</td>\n",
              "    </tr>\n",
              "    <tr>\n",
              "      <th>1.0</th>\n",
              "      <td>38578.008439</td>\n",
              "      <td>-6.020609</td>\n",
              "      <td>4.209147</td>\n",
              "      <td>-7.728592</td>\n",
              "      <td>4.759216</td>\n",
              "      <td>-4.298181</td>\n",
              "      <td>-1.547669</td>\n",
              "      <td>-6.396113</td>\n",
              "      <td>1.618176</td>\n",
              "      <td>-2.755420</td>\n",
              "      <td>...</td>\n",
              "      <td>0.252535</td>\n",
              "      <td>1.368462</td>\n",
              "      <td>-0.344519</td>\n",
              "      <td>-0.105012</td>\n",
              "      <td>-0.11118</td>\n",
              "      <td>0.215603</td>\n",
              "      <td>0.092395</td>\n",
              "      <td>0.533794</td>\n",
              "      <td>0.066186</td>\n",
              "      <td>118.885148</td>\n",
              "    </tr>\n",
              "  </tbody>\n",
              "</table>\n",
              "<p>2 rows × 30 columns</p>\n",
              "</div>\n",
              "      <button class=\"colab-df-convert\" onclick=\"convertToInteractive('df-20a2a6f2-5954-4417-8df6-9c0349bf3f41')\"\n",
              "              title=\"Convert this dataframe to an interactive table.\"\n",
              "              style=\"display:none;\">\n",
              "        \n",
              "  <svg xmlns=\"http://www.w3.org/2000/svg\" height=\"24px\"viewBox=\"0 0 24 24\"\n",
              "       width=\"24px\">\n",
              "    <path d=\"M0 0h24v24H0V0z\" fill=\"none\"/>\n",
              "    <path d=\"M18.56 5.44l.94 2.06.94-2.06 2.06-.94-2.06-.94-.94-2.06-.94 2.06-2.06.94zm-11 1L8.5 8.5l.94-2.06 2.06-.94-2.06-.94L8.5 2.5l-.94 2.06-2.06.94zm10 10l.94 2.06.94-2.06 2.06-.94-2.06-.94-.94-2.06-.94 2.06-2.06.94z\"/><path d=\"M17.41 7.96l-1.37-1.37c-.4-.4-.92-.59-1.43-.59-.52 0-1.04.2-1.43.59L10.3 9.45l-7.72 7.72c-.78.78-.78 2.05 0 2.83L4 21.41c.39.39.9.59 1.41.59.51 0 1.02-.2 1.41-.59l7.78-7.78 2.81-2.81c.8-.78.8-2.07 0-2.86zM5.41 20L4 18.59l7.72-7.72 1.47 1.35L5.41 20z\"/>\n",
              "  </svg>\n",
              "      </button>\n",
              "      \n",
              "  <style>\n",
              "    .colab-df-container {\n",
              "      display:flex;\n",
              "      flex-wrap:wrap;\n",
              "      gap: 12px;\n",
              "    }\n",
              "\n",
              "    .colab-df-convert {\n",
              "      background-color: #E8F0FE;\n",
              "      border: none;\n",
              "      border-radius: 50%;\n",
              "      cursor: pointer;\n",
              "      display: none;\n",
              "      fill: #1967D2;\n",
              "      height: 32px;\n",
              "      padding: 0 0 0 0;\n",
              "      width: 32px;\n",
              "    }\n",
              "\n",
              "    .colab-df-convert:hover {\n",
              "      background-color: #E2EBFA;\n",
              "      box-shadow: 0px 1px 2px rgba(60, 64, 67, 0.3), 0px 1px 3px 1px rgba(60, 64, 67, 0.15);\n",
              "      fill: #174EA6;\n",
              "    }\n",
              "\n",
              "    [theme=dark] .colab-df-convert {\n",
              "      background-color: #3B4455;\n",
              "      fill: #D2E3FC;\n",
              "    }\n",
              "\n",
              "    [theme=dark] .colab-df-convert:hover {\n",
              "      background-color: #434B5C;\n",
              "      box-shadow: 0px 1px 3px 1px rgba(0, 0, 0, 0.15);\n",
              "      filter: drop-shadow(0px 1px 2px rgba(0, 0, 0, 0.3));\n",
              "      fill: #FFFFFF;\n",
              "    }\n",
              "  </style>\n",
              "\n",
              "      <script>\n",
              "        const buttonEl =\n",
              "          document.querySelector('#df-20a2a6f2-5954-4417-8df6-9c0349bf3f41 button.colab-df-convert');\n",
              "        buttonEl.style.display =\n",
              "          google.colab.kernel.accessAllowed ? 'block' : 'none';\n",
              "\n",
              "        async function convertToInteractive(key) {\n",
              "          const element = document.querySelector('#df-20a2a6f2-5954-4417-8df6-9c0349bf3f41');\n",
              "          const dataTable =\n",
              "            await google.colab.kernel.invokeFunction('convertToInteractive',\n",
              "                                                     [key], {});\n",
              "          if (!dataTable) return;\n",
              "\n",
              "          const docLinkHtml = 'Like what you see? Visit the ' +\n",
              "            '<a target=\"_blank\" href=https://colab.research.google.com/notebooks/data_table.ipynb>data table notebook</a>'\n",
              "            + ' to learn more about interactive tables.';\n",
              "          element.innerHTML = '';\n",
              "          dataTable['output_type'] = 'display_data';\n",
              "          await google.colab.output.renderOutput(dataTable, element);\n",
              "          const docLink = document.createElement('div');\n",
              "          docLink.innerHTML = docLinkHtml;\n",
              "          element.appendChild(docLink);\n",
              "        }\n",
              "      </script>\n",
              "    </div>\n",
              "  </div>\n",
              "  "
            ]
          },
          "metadata": {},
          "execution_count": 23
        }
      ]
    },
    {
      "cell_type": "markdown",
      "source": [
        "Under-sampling"
      ],
      "metadata": {
        "id": "dybkDkbLEU_H"
      }
    },
    {
      "cell_type": "code",
      "source": [
        "# building a sample data set containing distribution of normal transaction and the fradulent transaction"
      ],
      "metadata": {
        "id": "e7fuqmXwEYvL"
      },
      "execution_count": null,
      "outputs": []
    },
    {
      "cell_type": "code",
      "source": [
        "# no.of.fraduelnt transaction - 492"
      ],
      "metadata": {
        "id": "DzWBE1s7EgxP"
      },
      "execution_count": null,
      "outputs": []
    },
    {
      "cell_type": "code",
      "source": [
        "legit_sample = legit.sample(n=492)"
      ],
      "metadata": {
        "id": "8l3aNpHCEomL"
      },
      "execution_count": null,
      "outputs": []
    },
    {
      "cell_type": "markdown",
      "source": [
        "concatnate 2 samples"
      ],
      "metadata": {
        "id": "oKErQNbeFDWn"
      }
    },
    {
      "cell_type": "code",
      "source": [
        "new_dataset = pd.concat([legit_sample, fraud], axis=0)"
      ],
      "metadata": {
        "id": "QEjidkPkFFpe"
      },
      "execution_count": null,
      "outputs": []
    },
    {
      "cell_type": "code",
      "source": [
        "new_dataset.head()"
      ],
      "metadata": {
        "colab": {
          "base_uri": "https://localhost:8080/",
          "height": 299
        },
        "id": "zNGE3hDKFV4j",
        "outputId": "a3cbedec-9117-4f57-f7ed-5ac4bc5d9728"
      },
      "execution_count": null,
      "outputs": [
        {
          "output_type": "execute_result",
          "data": {
            "text/plain": [
              "        Time        V1        V2        V3        V4        V5        V6  \\\n",
              "91880  63667 -0.725785 -0.627170  2.867386 -0.335981 -1.672168  0.910753   \n",
              "19342  30199  1.103256  0.211745  0.412680  1.120798 -0.220757 -0.342137   \n",
              "72338  54661 -0.892965  0.919481  1.411238 -0.343628  0.365768 -0.913391   \n",
              "31747  36501  1.178842 -0.884415 -0.155422 -0.548563 -0.846438 -0.524518   \n",
              "27088  34380 -1.596365 -0.600011 -0.657045 -1.651893 -1.541419 -0.123707   \n",
              "\n",
              "             V7        V8        V9  ...       V21       V22       V23  \\\n",
              "91880 -0.902732  0.385853 -0.140295  ... -0.331649 -0.034096 -0.109649   \n",
              "19342  0.058428  0.142478 -0.206612  ... -0.390954 -1.295671  0.276683   \n",
              "72338  0.673359 -0.070614 -0.301380  ... -0.095925 -0.435598  0.081710   \n",
              "31747 -0.235336 -0.118321 -0.949896  ... -0.362103 -0.745207 -0.144988   \n",
              "27088  2.517731  0.164091  0.258792  ...  0.483879  0.585999  1.100304   \n",
              "\n",
              "            V24       V25       V26       V27       V28  Amount  Class  \n",
              "91880  0.440189 -0.415234  1.164410  0.053297  0.095631   76.89    0.0  \n",
              "19342  0.105581  0.059542 -0.833215  0.010379  0.016976   19.27    0.0  \n",
              "72338  0.340499 -0.606679 -0.129533 -0.192848  0.207411    1.98    0.0  \n",
              "31747  0.045055  0.386886  1.085494 -0.097543  0.001764  113.99    0.0  \n",
              "27088 -0.032292  0.199587 -0.832829  0.119214  0.206759  560.84    0.0  \n",
              "\n",
              "[5 rows x 31 columns]"
            ],
            "text/html": [
              "\n",
              "  <div id=\"df-c54056af-f5eb-437f-850f-834617d22da7\">\n",
              "    <div class=\"colab-df-container\">\n",
              "      <div>\n",
              "<style scoped>\n",
              "    .dataframe tbody tr th:only-of-type {\n",
              "        vertical-align: middle;\n",
              "    }\n",
              "\n",
              "    .dataframe tbody tr th {\n",
              "        vertical-align: top;\n",
              "    }\n",
              "\n",
              "    .dataframe thead th {\n",
              "        text-align: right;\n",
              "    }\n",
              "</style>\n",
              "<table border=\"1\" class=\"dataframe\">\n",
              "  <thead>\n",
              "    <tr style=\"text-align: right;\">\n",
              "      <th></th>\n",
              "      <th>Time</th>\n",
              "      <th>V1</th>\n",
              "      <th>V2</th>\n",
              "      <th>V3</th>\n",
              "      <th>V4</th>\n",
              "      <th>V5</th>\n",
              "      <th>V6</th>\n",
              "      <th>V7</th>\n",
              "      <th>V8</th>\n",
              "      <th>V9</th>\n",
              "      <th>...</th>\n",
              "      <th>V21</th>\n",
              "      <th>V22</th>\n",
              "      <th>V23</th>\n",
              "      <th>V24</th>\n",
              "      <th>V25</th>\n",
              "      <th>V26</th>\n",
              "      <th>V27</th>\n",
              "      <th>V28</th>\n",
              "      <th>Amount</th>\n",
              "      <th>Class</th>\n",
              "    </tr>\n",
              "  </thead>\n",
              "  <tbody>\n",
              "    <tr>\n",
              "      <th>91880</th>\n",
              "      <td>63667</td>\n",
              "      <td>-0.725785</td>\n",
              "      <td>-0.627170</td>\n",
              "      <td>2.867386</td>\n",
              "      <td>-0.335981</td>\n",
              "      <td>-1.672168</td>\n",
              "      <td>0.910753</td>\n",
              "      <td>-0.902732</td>\n",
              "      <td>0.385853</td>\n",
              "      <td>-0.140295</td>\n",
              "      <td>...</td>\n",
              "      <td>-0.331649</td>\n",
              "      <td>-0.034096</td>\n",
              "      <td>-0.109649</td>\n",
              "      <td>0.440189</td>\n",
              "      <td>-0.415234</td>\n",
              "      <td>1.164410</td>\n",
              "      <td>0.053297</td>\n",
              "      <td>0.095631</td>\n",
              "      <td>76.89</td>\n",
              "      <td>0.0</td>\n",
              "    </tr>\n",
              "    <tr>\n",
              "      <th>19342</th>\n",
              "      <td>30199</td>\n",
              "      <td>1.103256</td>\n",
              "      <td>0.211745</td>\n",
              "      <td>0.412680</td>\n",
              "      <td>1.120798</td>\n",
              "      <td>-0.220757</td>\n",
              "      <td>-0.342137</td>\n",
              "      <td>0.058428</td>\n",
              "      <td>0.142478</td>\n",
              "      <td>-0.206612</td>\n",
              "      <td>...</td>\n",
              "      <td>-0.390954</td>\n",
              "      <td>-1.295671</td>\n",
              "      <td>0.276683</td>\n",
              "      <td>0.105581</td>\n",
              "      <td>0.059542</td>\n",
              "      <td>-0.833215</td>\n",
              "      <td>0.010379</td>\n",
              "      <td>0.016976</td>\n",
              "      <td>19.27</td>\n",
              "      <td>0.0</td>\n",
              "    </tr>\n",
              "    <tr>\n",
              "      <th>72338</th>\n",
              "      <td>54661</td>\n",
              "      <td>-0.892965</td>\n",
              "      <td>0.919481</td>\n",
              "      <td>1.411238</td>\n",
              "      <td>-0.343628</td>\n",
              "      <td>0.365768</td>\n",
              "      <td>-0.913391</td>\n",
              "      <td>0.673359</td>\n",
              "      <td>-0.070614</td>\n",
              "      <td>-0.301380</td>\n",
              "      <td>...</td>\n",
              "      <td>-0.095925</td>\n",
              "      <td>-0.435598</td>\n",
              "      <td>0.081710</td>\n",
              "      <td>0.340499</td>\n",
              "      <td>-0.606679</td>\n",
              "      <td>-0.129533</td>\n",
              "      <td>-0.192848</td>\n",
              "      <td>0.207411</td>\n",
              "      <td>1.98</td>\n",
              "      <td>0.0</td>\n",
              "    </tr>\n",
              "    <tr>\n",
              "      <th>31747</th>\n",
              "      <td>36501</td>\n",
              "      <td>1.178842</td>\n",
              "      <td>-0.884415</td>\n",
              "      <td>-0.155422</td>\n",
              "      <td>-0.548563</td>\n",
              "      <td>-0.846438</td>\n",
              "      <td>-0.524518</td>\n",
              "      <td>-0.235336</td>\n",
              "      <td>-0.118321</td>\n",
              "      <td>-0.949896</td>\n",
              "      <td>...</td>\n",
              "      <td>-0.362103</td>\n",
              "      <td>-0.745207</td>\n",
              "      <td>-0.144988</td>\n",
              "      <td>0.045055</td>\n",
              "      <td>0.386886</td>\n",
              "      <td>1.085494</td>\n",
              "      <td>-0.097543</td>\n",
              "      <td>0.001764</td>\n",
              "      <td>113.99</td>\n",
              "      <td>0.0</td>\n",
              "    </tr>\n",
              "    <tr>\n",
              "      <th>27088</th>\n",
              "      <td>34380</td>\n",
              "      <td>-1.596365</td>\n",
              "      <td>-0.600011</td>\n",
              "      <td>-0.657045</td>\n",
              "      <td>-1.651893</td>\n",
              "      <td>-1.541419</td>\n",
              "      <td>-0.123707</td>\n",
              "      <td>2.517731</td>\n",
              "      <td>0.164091</td>\n",
              "      <td>0.258792</td>\n",
              "      <td>...</td>\n",
              "      <td>0.483879</td>\n",
              "      <td>0.585999</td>\n",
              "      <td>1.100304</td>\n",
              "      <td>-0.032292</td>\n",
              "      <td>0.199587</td>\n",
              "      <td>-0.832829</td>\n",
              "      <td>0.119214</td>\n",
              "      <td>0.206759</td>\n",
              "      <td>560.84</td>\n",
              "      <td>0.0</td>\n",
              "    </tr>\n",
              "  </tbody>\n",
              "</table>\n",
              "<p>5 rows × 31 columns</p>\n",
              "</div>\n",
              "      <button class=\"colab-df-convert\" onclick=\"convertToInteractive('df-c54056af-f5eb-437f-850f-834617d22da7')\"\n",
              "              title=\"Convert this dataframe to an interactive table.\"\n",
              "              style=\"display:none;\">\n",
              "        \n",
              "  <svg xmlns=\"http://www.w3.org/2000/svg\" height=\"24px\"viewBox=\"0 0 24 24\"\n",
              "       width=\"24px\">\n",
              "    <path d=\"M0 0h24v24H0V0z\" fill=\"none\"/>\n",
              "    <path d=\"M18.56 5.44l.94 2.06.94-2.06 2.06-.94-2.06-.94-.94-2.06-.94 2.06-2.06.94zm-11 1L8.5 8.5l.94-2.06 2.06-.94-2.06-.94L8.5 2.5l-.94 2.06-2.06.94zm10 10l.94 2.06.94-2.06 2.06-.94-2.06-.94-.94-2.06-.94 2.06-2.06.94z\"/><path d=\"M17.41 7.96l-1.37-1.37c-.4-.4-.92-.59-1.43-.59-.52 0-1.04.2-1.43.59L10.3 9.45l-7.72 7.72c-.78.78-.78 2.05 0 2.83L4 21.41c.39.39.9.59 1.41.59.51 0 1.02-.2 1.41-.59l7.78-7.78 2.81-2.81c.8-.78.8-2.07 0-2.86zM5.41 20L4 18.59l7.72-7.72 1.47 1.35L5.41 20z\"/>\n",
              "  </svg>\n",
              "      </button>\n",
              "      \n",
              "  <style>\n",
              "    .colab-df-container {\n",
              "      display:flex;\n",
              "      flex-wrap:wrap;\n",
              "      gap: 12px;\n",
              "    }\n",
              "\n",
              "    .colab-df-convert {\n",
              "      background-color: #E8F0FE;\n",
              "      border: none;\n",
              "      border-radius: 50%;\n",
              "      cursor: pointer;\n",
              "      display: none;\n",
              "      fill: #1967D2;\n",
              "      height: 32px;\n",
              "      padding: 0 0 0 0;\n",
              "      width: 32px;\n",
              "    }\n",
              "\n",
              "    .colab-df-convert:hover {\n",
              "      background-color: #E2EBFA;\n",
              "      box-shadow: 0px 1px 2px rgba(60, 64, 67, 0.3), 0px 1px 3px 1px rgba(60, 64, 67, 0.15);\n",
              "      fill: #174EA6;\n",
              "    }\n",
              "\n",
              "    [theme=dark] .colab-df-convert {\n",
              "      background-color: #3B4455;\n",
              "      fill: #D2E3FC;\n",
              "    }\n",
              "\n",
              "    [theme=dark] .colab-df-convert:hover {\n",
              "      background-color: #434B5C;\n",
              "      box-shadow: 0px 1px 3px 1px rgba(0, 0, 0, 0.15);\n",
              "      filter: drop-shadow(0px 1px 2px rgba(0, 0, 0, 0.3));\n",
              "      fill: #FFFFFF;\n",
              "    }\n",
              "  </style>\n",
              "\n",
              "      <script>\n",
              "        const buttonEl =\n",
              "          document.querySelector('#df-c54056af-f5eb-437f-850f-834617d22da7 button.colab-df-convert');\n",
              "        buttonEl.style.display =\n",
              "          google.colab.kernel.accessAllowed ? 'block' : 'none';\n",
              "\n",
              "        async function convertToInteractive(key) {\n",
              "          const element = document.querySelector('#df-c54056af-f5eb-437f-850f-834617d22da7');\n",
              "          const dataTable =\n",
              "            await google.colab.kernel.invokeFunction('convertToInteractive',\n",
              "                                                     [key], {});\n",
              "          if (!dataTable) return;\n",
              "\n",
              "          const docLinkHtml = 'Like what you see? Visit the ' +\n",
              "            '<a target=\"_blank\" href=https://colab.research.google.com/notebooks/data_table.ipynb>data table notebook</a>'\n",
              "            + ' to learn more about interactive tables.';\n",
              "          element.innerHTML = '';\n",
              "          dataTable['output_type'] = 'display_data';\n",
              "          await google.colab.output.renderOutput(dataTable, element);\n",
              "          const docLink = document.createElement('div');\n",
              "          docLink.innerHTML = docLinkHtml;\n",
              "          element.appendChild(docLink);\n",
              "        }\n",
              "      </script>\n",
              "    </div>\n",
              "  </div>\n",
              "  "
            ]
          },
          "metadata": {},
          "execution_count": 28
        }
      ]
    },
    {
      "cell_type": "code",
      "source": [
        "new_dataset.tail()"
      ],
      "metadata": {
        "colab": {
          "base_uri": "https://localhost:8080/",
          "height": 299
        },
        "id": "g2ujyozTFZAv",
        "outputId": "ccb9f3dc-b9f5-4792-e78e-0b73cc3646d3"
      },
      "execution_count": null,
      "outputs": [
        {
          "output_type": "execute_result",
          "data": {
            "text/plain": [
              "         Time        V1        V2        V3        V4        V5        V6  \\\n",
              "105178  69394  1.140431  1.134243 -1.429455  2.012226  0.622800 -1.152923   \n",
              "106679  70071 -0.440095  1.137239 -3.227080  3.242293 -2.033998 -1.618415   \n",
              "106998  70229  0.315642  1.636778 -1.519650  4.028571 -1.186794 -0.789813   \n",
              "107067  70270 -1.512516  1.133139 -1.601052  2.813401 -2.664503 -0.310371   \n",
              "107637  70536 -2.271755 -0.457655 -2.589055  2.230778 -4.278983  0.388610   \n",
              "\n",
              "              V7        V8        V9  ...       V21       V22       V23  \\\n",
              "105178  0.221159  0.037372  0.034486  ... -0.367136 -0.891627 -0.160578   \n",
              "106679 -3.028013  0.764555 -1.801937  ...  0.764187 -0.275578 -0.343572   \n",
              "106998 -2.279807  0.472988 -1.657635  ...  0.345921 -0.108002 -0.165442   \n",
              "107067 -1.520895  0.852996 -1.496495  ...  0.729828  0.485286  0.567005   \n",
              "107637  0.102485  0.813128 -1.092921  ...  1.096342  0.658399  1.711676   \n",
              "\n",
              "             V24       V25       V26       V27       V28  Amount  Class  \n",
              "105178 -0.108326  0.668374 -0.352393  0.071993  0.113684    1.00    1.0  \n",
              "106679  0.233085  0.606434 -0.315433  0.768291  0.459623  227.30    1.0  \n",
              "106998  0.279895  0.808783  0.117363  0.589595  0.309064    3.79    1.0  \n",
              "107067  0.323586  0.040871  0.825814  0.414482  0.267265  318.11    1.0  \n",
              "107637  0.333540  0.538591 -0.193529  0.258194  0.247269  824.83    1.0  \n",
              "\n",
              "[5 rows x 31 columns]"
            ],
            "text/html": [
              "\n",
              "  <div id=\"df-ea9f8fea-0d91-4edc-8cc6-5bfd29720f71\">\n",
              "    <div class=\"colab-df-container\">\n",
              "      <div>\n",
              "<style scoped>\n",
              "    .dataframe tbody tr th:only-of-type {\n",
              "        vertical-align: middle;\n",
              "    }\n",
              "\n",
              "    .dataframe tbody tr th {\n",
              "        vertical-align: top;\n",
              "    }\n",
              "\n",
              "    .dataframe thead th {\n",
              "        text-align: right;\n",
              "    }\n",
              "</style>\n",
              "<table border=\"1\" class=\"dataframe\">\n",
              "  <thead>\n",
              "    <tr style=\"text-align: right;\">\n",
              "      <th></th>\n",
              "      <th>Time</th>\n",
              "      <th>V1</th>\n",
              "      <th>V2</th>\n",
              "      <th>V3</th>\n",
              "      <th>V4</th>\n",
              "      <th>V5</th>\n",
              "      <th>V6</th>\n",
              "      <th>V7</th>\n",
              "      <th>V8</th>\n",
              "      <th>V9</th>\n",
              "      <th>...</th>\n",
              "      <th>V21</th>\n",
              "      <th>V22</th>\n",
              "      <th>V23</th>\n",
              "      <th>V24</th>\n",
              "      <th>V25</th>\n",
              "      <th>V26</th>\n",
              "      <th>V27</th>\n",
              "      <th>V28</th>\n",
              "      <th>Amount</th>\n",
              "      <th>Class</th>\n",
              "    </tr>\n",
              "  </thead>\n",
              "  <tbody>\n",
              "    <tr>\n",
              "      <th>105178</th>\n",
              "      <td>69394</td>\n",
              "      <td>1.140431</td>\n",
              "      <td>1.134243</td>\n",
              "      <td>-1.429455</td>\n",
              "      <td>2.012226</td>\n",
              "      <td>0.622800</td>\n",
              "      <td>-1.152923</td>\n",
              "      <td>0.221159</td>\n",
              "      <td>0.037372</td>\n",
              "      <td>0.034486</td>\n",
              "      <td>...</td>\n",
              "      <td>-0.367136</td>\n",
              "      <td>-0.891627</td>\n",
              "      <td>-0.160578</td>\n",
              "      <td>-0.108326</td>\n",
              "      <td>0.668374</td>\n",
              "      <td>-0.352393</td>\n",
              "      <td>0.071993</td>\n",
              "      <td>0.113684</td>\n",
              "      <td>1.00</td>\n",
              "      <td>1.0</td>\n",
              "    </tr>\n",
              "    <tr>\n",
              "      <th>106679</th>\n",
              "      <td>70071</td>\n",
              "      <td>-0.440095</td>\n",
              "      <td>1.137239</td>\n",
              "      <td>-3.227080</td>\n",
              "      <td>3.242293</td>\n",
              "      <td>-2.033998</td>\n",
              "      <td>-1.618415</td>\n",
              "      <td>-3.028013</td>\n",
              "      <td>0.764555</td>\n",
              "      <td>-1.801937</td>\n",
              "      <td>...</td>\n",
              "      <td>0.764187</td>\n",
              "      <td>-0.275578</td>\n",
              "      <td>-0.343572</td>\n",
              "      <td>0.233085</td>\n",
              "      <td>0.606434</td>\n",
              "      <td>-0.315433</td>\n",
              "      <td>0.768291</td>\n",
              "      <td>0.459623</td>\n",
              "      <td>227.30</td>\n",
              "      <td>1.0</td>\n",
              "    </tr>\n",
              "    <tr>\n",
              "      <th>106998</th>\n",
              "      <td>70229</td>\n",
              "      <td>0.315642</td>\n",
              "      <td>1.636778</td>\n",
              "      <td>-1.519650</td>\n",
              "      <td>4.028571</td>\n",
              "      <td>-1.186794</td>\n",
              "      <td>-0.789813</td>\n",
              "      <td>-2.279807</td>\n",
              "      <td>0.472988</td>\n",
              "      <td>-1.657635</td>\n",
              "      <td>...</td>\n",
              "      <td>0.345921</td>\n",
              "      <td>-0.108002</td>\n",
              "      <td>-0.165442</td>\n",
              "      <td>0.279895</td>\n",
              "      <td>0.808783</td>\n",
              "      <td>0.117363</td>\n",
              "      <td>0.589595</td>\n",
              "      <td>0.309064</td>\n",
              "      <td>3.79</td>\n",
              "      <td>1.0</td>\n",
              "    </tr>\n",
              "    <tr>\n",
              "      <th>107067</th>\n",
              "      <td>70270</td>\n",
              "      <td>-1.512516</td>\n",
              "      <td>1.133139</td>\n",
              "      <td>-1.601052</td>\n",
              "      <td>2.813401</td>\n",
              "      <td>-2.664503</td>\n",
              "      <td>-0.310371</td>\n",
              "      <td>-1.520895</td>\n",
              "      <td>0.852996</td>\n",
              "      <td>-1.496495</td>\n",
              "      <td>...</td>\n",
              "      <td>0.729828</td>\n",
              "      <td>0.485286</td>\n",
              "      <td>0.567005</td>\n",
              "      <td>0.323586</td>\n",
              "      <td>0.040871</td>\n",
              "      <td>0.825814</td>\n",
              "      <td>0.414482</td>\n",
              "      <td>0.267265</td>\n",
              "      <td>318.11</td>\n",
              "      <td>1.0</td>\n",
              "    </tr>\n",
              "    <tr>\n",
              "      <th>107637</th>\n",
              "      <td>70536</td>\n",
              "      <td>-2.271755</td>\n",
              "      <td>-0.457655</td>\n",
              "      <td>-2.589055</td>\n",
              "      <td>2.230778</td>\n",
              "      <td>-4.278983</td>\n",
              "      <td>0.388610</td>\n",
              "      <td>0.102485</td>\n",
              "      <td>0.813128</td>\n",
              "      <td>-1.092921</td>\n",
              "      <td>...</td>\n",
              "      <td>1.096342</td>\n",
              "      <td>0.658399</td>\n",
              "      <td>1.711676</td>\n",
              "      <td>0.333540</td>\n",
              "      <td>0.538591</td>\n",
              "      <td>-0.193529</td>\n",
              "      <td>0.258194</td>\n",
              "      <td>0.247269</td>\n",
              "      <td>824.83</td>\n",
              "      <td>1.0</td>\n",
              "    </tr>\n",
              "  </tbody>\n",
              "</table>\n",
              "<p>5 rows × 31 columns</p>\n",
              "</div>\n",
              "      <button class=\"colab-df-convert\" onclick=\"convertToInteractive('df-ea9f8fea-0d91-4edc-8cc6-5bfd29720f71')\"\n",
              "              title=\"Convert this dataframe to an interactive table.\"\n",
              "              style=\"display:none;\">\n",
              "        \n",
              "  <svg xmlns=\"http://www.w3.org/2000/svg\" height=\"24px\"viewBox=\"0 0 24 24\"\n",
              "       width=\"24px\">\n",
              "    <path d=\"M0 0h24v24H0V0z\" fill=\"none\"/>\n",
              "    <path d=\"M18.56 5.44l.94 2.06.94-2.06 2.06-.94-2.06-.94-.94-2.06-.94 2.06-2.06.94zm-11 1L8.5 8.5l.94-2.06 2.06-.94-2.06-.94L8.5 2.5l-.94 2.06-2.06.94zm10 10l.94 2.06.94-2.06 2.06-.94-2.06-.94-.94-2.06-.94 2.06-2.06.94z\"/><path d=\"M17.41 7.96l-1.37-1.37c-.4-.4-.92-.59-1.43-.59-.52 0-1.04.2-1.43.59L10.3 9.45l-7.72 7.72c-.78.78-.78 2.05 0 2.83L4 21.41c.39.39.9.59 1.41.59.51 0 1.02-.2 1.41-.59l7.78-7.78 2.81-2.81c.8-.78.8-2.07 0-2.86zM5.41 20L4 18.59l7.72-7.72 1.47 1.35L5.41 20z\"/>\n",
              "  </svg>\n",
              "      </button>\n",
              "      \n",
              "  <style>\n",
              "    .colab-df-container {\n",
              "      display:flex;\n",
              "      flex-wrap:wrap;\n",
              "      gap: 12px;\n",
              "    }\n",
              "\n",
              "    .colab-df-convert {\n",
              "      background-color: #E8F0FE;\n",
              "      border: none;\n",
              "      border-radius: 50%;\n",
              "      cursor: pointer;\n",
              "      display: none;\n",
              "      fill: #1967D2;\n",
              "      height: 32px;\n",
              "      padding: 0 0 0 0;\n",
              "      width: 32px;\n",
              "    }\n",
              "\n",
              "    .colab-df-convert:hover {\n",
              "      background-color: #E2EBFA;\n",
              "      box-shadow: 0px 1px 2px rgba(60, 64, 67, 0.3), 0px 1px 3px 1px rgba(60, 64, 67, 0.15);\n",
              "      fill: #174EA6;\n",
              "    }\n",
              "\n",
              "    [theme=dark] .colab-df-convert {\n",
              "      background-color: #3B4455;\n",
              "      fill: #D2E3FC;\n",
              "    }\n",
              "\n",
              "    [theme=dark] .colab-df-convert:hover {\n",
              "      background-color: #434B5C;\n",
              "      box-shadow: 0px 1px 3px 1px rgba(0, 0, 0, 0.15);\n",
              "      filter: drop-shadow(0px 1px 2px rgba(0, 0, 0, 0.3));\n",
              "      fill: #FFFFFF;\n",
              "    }\n",
              "  </style>\n",
              "\n",
              "      <script>\n",
              "        const buttonEl =\n",
              "          document.querySelector('#df-ea9f8fea-0d91-4edc-8cc6-5bfd29720f71 button.colab-df-convert');\n",
              "        buttonEl.style.display =\n",
              "          google.colab.kernel.accessAllowed ? 'block' : 'none';\n",
              "\n",
              "        async function convertToInteractive(key) {\n",
              "          const element = document.querySelector('#df-ea9f8fea-0d91-4edc-8cc6-5bfd29720f71');\n",
              "          const dataTable =\n",
              "            await google.colab.kernel.invokeFunction('convertToInteractive',\n",
              "                                                     [key], {});\n",
              "          if (!dataTable) return;\n",
              "\n",
              "          const docLinkHtml = 'Like what you see? Visit the ' +\n",
              "            '<a target=\"_blank\" href=https://colab.research.google.com/notebooks/data_table.ipynb>data table notebook</a>'\n",
              "            + ' to learn more about interactive tables.';\n",
              "          element.innerHTML = '';\n",
              "          dataTable['output_type'] = 'display_data';\n",
              "          await google.colab.output.renderOutput(dataTable, element);\n",
              "          const docLink = document.createElement('div');\n",
              "          docLink.innerHTML = docLinkHtml;\n",
              "          element.appendChild(docLink);\n",
              "        }\n",
              "      </script>\n",
              "    </div>\n",
              "  </div>\n",
              "  "
            ]
          },
          "metadata": {},
          "execution_count": 29
        }
      ]
    },
    {
      "cell_type": "code",
      "source": [
        "new_dataset['Class'].value_counts()"
      ],
      "metadata": {
        "colab": {
          "base_uri": "https://localhost:8080/"
        },
        "id": "ZeP1DsJxFojw",
        "outputId": "08dbb86c-595e-439b-d25d-db14a7addd28"
      },
      "execution_count": null,
      "outputs": [
        {
          "output_type": "execute_result",
          "data": {
            "text/plain": [
              "0.0    492\n",
              "1.0    237\n",
              "Name: Class, dtype: int64"
            ]
          },
          "metadata": {},
          "execution_count": 30
        }
      ]
    },
    {
      "cell_type": "code",
      "source": [
        "new_dataset.groupby('Class').mean()"
      ],
      "metadata": {
        "colab": {
          "base_uri": "https://localhost:8080/",
          "height": 237
        },
        "id": "TQIMrEy_Fz38",
        "outputId": "2a5fcb6b-8a52-4d40-80be-c3d8d76dbdc6"
      },
      "execution_count": null,
      "outputs": [
        {
          "output_type": "execute_result",
          "data": {
            "text/plain": [
              "               Time        V1        V2        V3        V4        V5  \\\n",
              "Class                                                                   \n",
              "0.0    44764.260163 -0.356306 -0.098229  0.705779 -0.009087 -0.193139   \n",
              "1.0    38578.008439 -6.020609  4.209147 -7.728592  4.759216 -4.298181   \n",
              "\n",
              "             V6        V7        V8        V9  ...       V20       V21  \\\n",
              "Class                                          ...                       \n",
              "0.0    0.074214 -0.163664  0.031220 -0.127833  ...  0.011771 -0.017360   \n",
              "1.0   -1.547669 -6.396113  1.618176 -2.755420  ...  0.252535  1.368462   \n",
              "\n",
              "            V22       V23       V24       V25       V26       V27       V28  \\\n",
              "Class                                                                         \n",
              "0.0   -0.137982 -0.062816  0.042616  0.121229  0.011512  0.003160 -0.014607   \n",
              "1.0   -0.344519 -0.105012 -0.111180  0.215603  0.092395  0.533794  0.066186   \n",
              "\n",
              "           Amount  \n",
              "Class              \n",
              "0.0     99.940915  \n",
              "1.0    118.885148  \n",
              "\n",
              "[2 rows x 30 columns]"
            ],
            "text/html": [
              "\n",
              "  <div id=\"df-a924231c-042e-4d69-bfc3-4eb2e13ebb4a\">\n",
              "    <div class=\"colab-df-container\">\n",
              "      <div>\n",
              "<style scoped>\n",
              "    .dataframe tbody tr th:only-of-type {\n",
              "        vertical-align: middle;\n",
              "    }\n",
              "\n",
              "    .dataframe tbody tr th {\n",
              "        vertical-align: top;\n",
              "    }\n",
              "\n",
              "    .dataframe thead th {\n",
              "        text-align: right;\n",
              "    }\n",
              "</style>\n",
              "<table border=\"1\" class=\"dataframe\">\n",
              "  <thead>\n",
              "    <tr style=\"text-align: right;\">\n",
              "      <th></th>\n",
              "      <th>Time</th>\n",
              "      <th>V1</th>\n",
              "      <th>V2</th>\n",
              "      <th>V3</th>\n",
              "      <th>V4</th>\n",
              "      <th>V5</th>\n",
              "      <th>V6</th>\n",
              "      <th>V7</th>\n",
              "      <th>V8</th>\n",
              "      <th>V9</th>\n",
              "      <th>...</th>\n",
              "      <th>V20</th>\n",
              "      <th>V21</th>\n",
              "      <th>V22</th>\n",
              "      <th>V23</th>\n",
              "      <th>V24</th>\n",
              "      <th>V25</th>\n",
              "      <th>V26</th>\n",
              "      <th>V27</th>\n",
              "      <th>V28</th>\n",
              "      <th>Amount</th>\n",
              "    </tr>\n",
              "    <tr>\n",
              "      <th>Class</th>\n",
              "      <th></th>\n",
              "      <th></th>\n",
              "      <th></th>\n",
              "      <th></th>\n",
              "      <th></th>\n",
              "      <th></th>\n",
              "      <th></th>\n",
              "      <th></th>\n",
              "      <th></th>\n",
              "      <th></th>\n",
              "      <th></th>\n",
              "      <th></th>\n",
              "      <th></th>\n",
              "      <th></th>\n",
              "      <th></th>\n",
              "      <th></th>\n",
              "      <th></th>\n",
              "      <th></th>\n",
              "      <th></th>\n",
              "      <th></th>\n",
              "      <th></th>\n",
              "    </tr>\n",
              "  </thead>\n",
              "  <tbody>\n",
              "    <tr>\n",
              "      <th>0.0</th>\n",
              "      <td>44764.260163</td>\n",
              "      <td>-0.356306</td>\n",
              "      <td>-0.098229</td>\n",
              "      <td>0.705779</td>\n",
              "      <td>-0.009087</td>\n",
              "      <td>-0.193139</td>\n",
              "      <td>0.074214</td>\n",
              "      <td>-0.163664</td>\n",
              "      <td>0.031220</td>\n",
              "      <td>-0.127833</td>\n",
              "      <td>...</td>\n",
              "      <td>0.011771</td>\n",
              "      <td>-0.017360</td>\n",
              "      <td>-0.137982</td>\n",
              "      <td>-0.062816</td>\n",
              "      <td>0.042616</td>\n",
              "      <td>0.121229</td>\n",
              "      <td>0.011512</td>\n",
              "      <td>0.003160</td>\n",
              "      <td>-0.014607</td>\n",
              "      <td>99.940915</td>\n",
              "    </tr>\n",
              "    <tr>\n",
              "      <th>1.0</th>\n",
              "      <td>38578.008439</td>\n",
              "      <td>-6.020609</td>\n",
              "      <td>4.209147</td>\n",
              "      <td>-7.728592</td>\n",
              "      <td>4.759216</td>\n",
              "      <td>-4.298181</td>\n",
              "      <td>-1.547669</td>\n",
              "      <td>-6.396113</td>\n",
              "      <td>1.618176</td>\n",
              "      <td>-2.755420</td>\n",
              "      <td>...</td>\n",
              "      <td>0.252535</td>\n",
              "      <td>1.368462</td>\n",
              "      <td>-0.344519</td>\n",
              "      <td>-0.105012</td>\n",
              "      <td>-0.111180</td>\n",
              "      <td>0.215603</td>\n",
              "      <td>0.092395</td>\n",
              "      <td>0.533794</td>\n",
              "      <td>0.066186</td>\n",
              "      <td>118.885148</td>\n",
              "    </tr>\n",
              "  </tbody>\n",
              "</table>\n",
              "<p>2 rows × 30 columns</p>\n",
              "</div>\n",
              "      <button class=\"colab-df-convert\" onclick=\"convertToInteractive('df-a924231c-042e-4d69-bfc3-4eb2e13ebb4a')\"\n",
              "              title=\"Convert this dataframe to an interactive table.\"\n",
              "              style=\"display:none;\">\n",
              "        \n",
              "  <svg xmlns=\"http://www.w3.org/2000/svg\" height=\"24px\"viewBox=\"0 0 24 24\"\n",
              "       width=\"24px\">\n",
              "    <path d=\"M0 0h24v24H0V0z\" fill=\"none\"/>\n",
              "    <path d=\"M18.56 5.44l.94 2.06.94-2.06 2.06-.94-2.06-.94-.94-2.06-.94 2.06-2.06.94zm-11 1L8.5 8.5l.94-2.06 2.06-.94-2.06-.94L8.5 2.5l-.94 2.06-2.06.94zm10 10l.94 2.06.94-2.06 2.06-.94-2.06-.94-.94-2.06-.94 2.06-2.06.94z\"/><path d=\"M17.41 7.96l-1.37-1.37c-.4-.4-.92-.59-1.43-.59-.52 0-1.04.2-1.43.59L10.3 9.45l-7.72 7.72c-.78.78-.78 2.05 0 2.83L4 21.41c.39.39.9.59 1.41.59.51 0 1.02-.2 1.41-.59l7.78-7.78 2.81-2.81c.8-.78.8-2.07 0-2.86zM5.41 20L4 18.59l7.72-7.72 1.47 1.35L5.41 20z\"/>\n",
              "  </svg>\n",
              "      </button>\n",
              "      \n",
              "  <style>\n",
              "    .colab-df-container {\n",
              "      display:flex;\n",
              "      flex-wrap:wrap;\n",
              "      gap: 12px;\n",
              "    }\n",
              "\n",
              "    .colab-df-convert {\n",
              "      background-color: #E8F0FE;\n",
              "      border: none;\n",
              "      border-radius: 50%;\n",
              "      cursor: pointer;\n",
              "      display: none;\n",
              "      fill: #1967D2;\n",
              "      height: 32px;\n",
              "      padding: 0 0 0 0;\n",
              "      width: 32px;\n",
              "    }\n",
              "\n",
              "    .colab-df-convert:hover {\n",
              "      background-color: #E2EBFA;\n",
              "      box-shadow: 0px 1px 2px rgba(60, 64, 67, 0.3), 0px 1px 3px 1px rgba(60, 64, 67, 0.15);\n",
              "      fill: #174EA6;\n",
              "    }\n",
              "\n",
              "    [theme=dark] .colab-df-convert {\n",
              "      background-color: #3B4455;\n",
              "      fill: #D2E3FC;\n",
              "    }\n",
              "\n",
              "    [theme=dark] .colab-df-convert:hover {\n",
              "      background-color: #434B5C;\n",
              "      box-shadow: 0px 1px 3px 1px rgba(0, 0, 0, 0.15);\n",
              "      filter: drop-shadow(0px 1px 2px rgba(0, 0, 0, 0.3));\n",
              "      fill: #FFFFFF;\n",
              "    }\n",
              "  </style>\n",
              "\n",
              "      <script>\n",
              "        const buttonEl =\n",
              "          document.querySelector('#df-a924231c-042e-4d69-bfc3-4eb2e13ebb4a button.colab-df-convert');\n",
              "        buttonEl.style.display =\n",
              "          google.colab.kernel.accessAllowed ? 'block' : 'none';\n",
              "\n",
              "        async function convertToInteractive(key) {\n",
              "          const element = document.querySelector('#df-a924231c-042e-4d69-bfc3-4eb2e13ebb4a');\n",
              "          const dataTable =\n",
              "            await google.colab.kernel.invokeFunction('convertToInteractive',\n",
              "                                                     [key], {});\n",
              "          if (!dataTable) return;\n",
              "\n",
              "          const docLinkHtml = 'Like what you see? Visit the ' +\n",
              "            '<a target=\"_blank\" href=https://colab.research.google.com/notebooks/data_table.ipynb>data table notebook</a>'\n",
              "            + ' to learn more about interactive tables.';\n",
              "          element.innerHTML = '';\n",
              "          dataTable['output_type'] = 'display_data';\n",
              "          await google.colab.output.renderOutput(dataTable, element);\n",
              "          const docLink = document.createElement('div');\n",
              "          docLink.innerHTML = docLinkHtml;\n",
              "          element.appendChild(docLink);\n",
              "        }\n",
              "      </script>\n",
              "    </div>\n",
              "  </div>\n",
              "  "
            ]
          },
          "metadata": {},
          "execution_count": 31
        }
      ]
    },
    {
      "cell_type": "markdown",
      "source": [
        "splitting the data into features and targets"
      ],
      "metadata": {
        "id": "0i35-UcFHfz-"
      }
    },
    {
      "cell_type": "code",
      "source": [
        "X = new_dataset.drop(columns='Class', axis=1)\n",
        "Y = new_dataset['Class']"
      ],
      "metadata": {
        "id": "ebdd2zyPGIMC"
      },
      "execution_count": null,
      "outputs": []
    },
    {
      "cell_type": "code",
      "source": [
        "print(X)"
      ],
      "metadata": {
        "colab": {
          "base_uri": "https://localhost:8080/"
        },
        "id": "T3Rzy_QAHyUv",
        "outputId": "a212f10b-87a1-4c81-f1c1-a5c252cf3ff4"
      },
      "execution_count": null,
      "outputs": [
        {
          "output_type": "stream",
          "name": "stdout",
          "text": [
            "         Time        V1        V2        V3        V4        V5        V6  \\\n",
            "91880   63667 -0.725785 -0.627170  2.867386 -0.335981 -1.672168  0.910753   \n",
            "19342   30199  1.103256  0.211745  0.412680  1.120798 -0.220757 -0.342137   \n",
            "72338   54661 -0.892965  0.919481  1.411238 -0.343628  0.365768 -0.913391   \n",
            "31747   36501  1.178842 -0.884415 -0.155422 -0.548563 -0.846438 -0.524518   \n",
            "27088   34380 -1.596365 -0.600011 -0.657045 -1.651893 -1.541419 -0.123707   \n",
            "...       ...       ...       ...       ...       ...       ...       ...   \n",
            "105178  69394  1.140431  1.134243 -1.429455  2.012226  0.622800 -1.152923   \n",
            "106679  70071 -0.440095  1.137239 -3.227080  3.242293 -2.033998 -1.618415   \n",
            "106998  70229  0.315642  1.636778 -1.519650  4.028571 -1.186794 -0.789813   \n",
            "107067  70270 -1.512516  1.133139 -1.601052  2.813401 -2.664503 -0.310371   \n",
            "107637  70536 -2.271755 -0.457655 -2.589055  2.230778 -4.278983  0.388610   \n",
            "\n",
            "              V7        V8        V9  ...       V20       V21       V22  \\\n",
            "91880  -0.902732  0.385853 -0.140295  ... -0.337898 -0.331649 -0.034096   \n",
            "19342   0.058428  0.142478 -0.206612  ... -0.250141 -0.390954 -1.295671   \n",
            "72338   0.673359 -0.070614 -0.301380  ... -0.210967 -0.095925 -0.435598   \n",
            "31747  -0.235336 -0.118321 -0.949896  ... -0.301801 -0.362103 -0.745207   \n",
            "27088   2.517731  0.164091  0.258792  ...  1.060103  0.483879  0.585999   \n",
            "...          ...       ...       ...  ...       ...       ...       ...   \n",
            "105178  0.221159  0.037372  0.034486  ... -0.099712 -0.367136 -0.891627   \n",
            "106679 -3.028013  0.764555 -1.801937  ...  0.895841  0.764187 -0.275578   \n",
            "106998 -2.279807  0.472988 -1.657635  ...  0.388885  0.345921 -0.108002   \n",
            "107067 -1.520895  0.852996 -1.496495  ...  1.249586  0.729828  0.485286   \n",
            "107637  0.102485  0.813128 -1.092921  ...  2.285758  1.096342  0.658399   \n",
            "\n",
            "             V23       V24       V25       V26       V27       V28  Amount  \n",
            "91880  -0.109649  0.440189 -0.415234  1.164410  0.053297  0.095631   76.89  \n",
            "19342   0.276683  0.105581  0.059542 -0.833215  0.010379  0.016976   19.27  \n",
            "72338   0.081710  0.340499 -0.606679 -0.129533 -0.192848  0.207411    1.98  \n",
            "31747  -0.144988  0.045055  0.386886  1.085494 -0.097543  0.001764  113.99  \n",
            "27088   1.100304 -0.032292  0.199587 -0.832829  0.119214  0.206759  560.84  \n",
            "...          ...       ...       ...       ...       ...       ...     ...  \n",
            "105178 -0.160578 -0.108326  0.668374 -0.352393  0.071993  0.113684    1.00  \n",
            "106679 -0.343572  0.233085  0.606434 -0.315433  0.768291  0.459623  227.30  \n",
            "106998 -0.165442  0.279895  0.808783  0.117363  0.589595  0.309064    3.79  \n",
            "107067  0.567005  0.323586  0.040871  0.825814  0.414482  0.267265  318.11  \n",
            "107637  1.711676  0.333540  0.538591 -0.193529  0.258194  0.247269  824.83  \n",
            "\n",
            "[729 rows x 30 columns]\n"
          ]
        }
      ]
    },
    {
      "cell_type": "code",
      "source": [
        "print(Y)"
      ],
      "metadata": {
        "colab": {
          "base_uri": "https://localhost:8080/"
        },
        "id": "XSgSIsF8IPpM",
        "outputId": "0afa7415-7d42-4f6a-9636-1c88cc2315b8"
      },
      "execution_count": null,
      "outputs": [
        {
          "output_type": "stream",
          "name": "stdout",
          "text": [
            "91880     0.0\n",
            "19342     0.0\n",
            "72338     0.0\n",
            "31747     0.0\n",
            "27088     0.0\n",
            "         ... \n",
            "105178    1.0\n",
            "106679    1.0\n",
            "106998    1.0\n",
            "107067    1.0\n",
            "107637    1.0\n",
            "Name: Class, Length: 729, dtype: float64\n"
          ]
        }
      ]
    },
    {
      "cell_type": "markdown",
      "source": [
        "splitting the data into training and testing data"
      ],
      "metadata": {
        "id": "HSOIi3neIZON"
      }
    },
    {
      "cell_type": "code",
      "source": [
        "X_train, X_test, Y_train, Y_test = train_test_split(X, Y, test_size=0.2, stratify=Y , random_state=2)"
      ],
      "metadata": {
        "id": "Lv4c-heyIWT3"
      },
      "execution_count": null,
      "outputs": []
    },
    {
      "cell_type": "code",
      "source": [
        "print(X.shape, X_train.shape, X_test.shape)"
      ],
      "metadata": {
        "colab": {
          "base_uri": "https://localhost:8080/"
        },
        "id": "N8gAhAmDI9dW",
        "outputId": "34c781b2-8d6b-4c41-8246-b6d9ad1dbb94"
      },
      "execution_count": null,
      "outputs": [
        {
          "output_type": "stream",
          "name": "stdout",
          "text": [
            "(729, 30) (583, 30) (146, 30)\n"
          ]
        }
      ]
    },
    {
      "cell_type": "markdown",
      "source": [
        "Model Training\n"
      ],
      "metadata": {
        "id": "MMUZEfEeKIiH"
      }
    },
    {
      "cell_type": "markdown",
      "source": [
        "\n",
        "\n",
        "```\n",
        "# This is formatted as code\n",
        "```\n",
        "\n",
        "Logistic Regression"
      ],
      "metadata": {
        "id": "r5Kv-WwCKOCS"
      }
    },
    {
      "cell_type": "code",
      "source": [
        "model = LogisticRegression()"
      ],
      "metadata": {
        "id": "tmo3iOnoKQeL"
      },
      "execution_count": null,
      "outputs": []
    },
    {
      "cell_type": "markdown",
      "source": [
        "Training the logistic regression model with Training data"
      ],
      "metadata": {
        "id": "uaMFW-OOKb-4"
      }
    },
    {
      "cell_type": "code",
      "source": [
        "model.fit(X_train, Y_train)"
      ],
      "metadata": {
        "colab": {
          "base_uri": "https://localhost:8080/"
        },
        "id": "_-xKbD6dKg6W",
        "outputId": "5206ea07-8fe8-4290-90c5-503bb62c5a73"
      },
      "execution_count": null,
      "outputs": [
        {
          "output_type": "stream",
          "name": "stderr",
          "text": [
            "/usr/local/lib/python3.8/dist-packages/sklearn/linear_model/_logistic.py:814: ConvergenceWarning: lbfgs failed to converge (status=1):\n",
            "STOP: TOTAL NO. of ITERATIONS REACHED LIMIT.\n",
            "\n",
            "Increase the number of iterations (max_iter) or scale the data as shown in:\n",
            "    https://scikit-learn.org/stable/modules/preprocessing.html\n",
            "Please also refer to the documentation for alternative solver options:\n",
            "    https://scikit-learn.org/stable/modules/linear_model.html#logistic-regression\n",
            "  n_iter_i = _check_optimize_result(\n"
          ]
        },
        {
          "output_type": "execute_result",
          "data": {
            "text/plain": [
              "LogisticRegression()"
            ]
          },
          "metadata": {},
          "execution_count": 38
        }
      ]
    },
    {
      "cell_type": "markdown",
      "source": [
        "Model Evaluation\n",
        "\n",
        "Accuracy Score"
      ],
      "metadata": {
        "id": "0KEWAooaLj_Z"
      }
    },
    {
      "cell_type": "code",
      "source": [
        "X_train_prediction = model.predict(X_train)\n",
        "traning_data_accuracy = accuracy_score(X_train_prediction, Y_train)"
      ],
      "metadata": {
        "id": "PE6a6kwwLpmr"
      },
      "execution_count": null,
      "outputs": []
    },
    {
      "cell_type": "code",
      "source": [
        "print('Accuracy on training data : ',traning_data_accuracy )"
      ],
      "metadata": {
        "colab": {
          "base_uri": "https://localhost:8080/"
        },
        "id": "rqNRbz23MWP5",
        "outputId": "91f670ee-3293-4859-c379-c4f83c275f87"
      },
      "execution_count": null,
      "outputs": [
        {
          "output_type": "stream",
          "name": "stdout",
          "text": [
            "Accuracy on training data :  0.9622641509433962\n"
          ]
        }
      ]
    },
    {
      "cell_type": "code",
      "source": [
        "X_test_prediction = model.predict(X_test)\n",
        "test_data_accuracy = accuracy_score(X_test_prediction, Y_test)"
      ],
      "metadata": {
        "id": "mwHxcHiqMvji"
      },
      "execution_count": null,
      "outputs": []
    },
    {
      "cell_type": "code",
      "source": [
        "print('Accuracy on test data : ',test_data_accuracy )"
      ],
      "metadata": {
        "colab": {
          "base_uri": "https://localhost:8080/"
        },
        "id": "I_ZWgPMkNTwo",
        "outputId": "53ac38ca-caa4-4cb0-8eb6-f7e5588ecf24"
      },
      "execution_count": null,
      "outputs": [
        {
          "output_type": "stream",
          "name": "stdout",
          "text": [
            "Accuracy on test data :  0.9315068493150684\n"
          ]
        }
      ]
    }
  ]
}